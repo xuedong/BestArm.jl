{
 "cells": [
  {
   "cell_type": "code",
   "execution_count": 1,
   "metadata": {},
   "outputs": [
    {
     "name": "stderr",
     "output_type": "stream",
     "text": [
      "WARNING: Method definition warn(Any...) in module Base at util.jl:585 overwritten in module Logging at /home/xuedong/.julia/v0.6/Logging/src/Logging.jl:115.\n",
      "WARNING: Method definition info(Any...) in module Base at util.jl:532 overwritten in module Logging at /home/xuedong/.julia/v0.6/Logging/src/Logging.jl:115.\n"
     ]
    }
   ],
   "source": [
    "using Logging\n",
    "using Gadfly\n",
    "using GaussianProcesses"
   ]
  },
  {
   "cell_type": "code",
   "execution_count": 2,
   "metadata": {},
   "outputs": [
    {
     "data": {
      "text/plain": [
       "BayesOptim"
      ]
     },
     "execution_count": 2,
     "metadata": {},
     "output_type": "execute_result"
    }
   ],
   "source": [
    "include(\"../BayesOptim.jl\")"
   ]
  },
  {
   "cell_type": "code",
   "execution_count": 3,
   "metadata": {},
   "outputs": [
    {
     "data": {
      "text/plain": [
       "foo (generic function with 1 method)"
      ]
     },
     "execution_count": 3,
     "metadata": {},
     "output_type": "execute_result"
    }
   ],
   "source": [
    "Logging.configure(output=STDOUT, level=DEBUG)\n",
    "function foo(a)\n",
    "    return sin(a)^2\n",
    "end\n",
    "\n"
   ]
  },
  {
   "cell_type": "code",
   "execution_count": 4,
   "metadata": {},
   "outputs": [
    {
     "name": "stdout",
     "output_type": "stream",
     "text": [
      "08-janv. 14:24:54:DEBUG:root:iteration=2, x=[4.2729], y=0.8189692683298179\n",
      "in callback catch\n"
     ]
    },
    {
     "ename": "LoadError",
     "evalue": "\u001b[91mDimensionMismatch(\"Cannot left-divide transposed vector by matrix\")\u001b[39m",
     "output_type": "error",
     "traceback": [
      "\u001b[91mDimensionMismatch(\"Cannot left-divide transposed vector by matrix\")\u001b[39m",
      ""
     ]
    }
   ],
   "source": [
    "xmax, ymax, opt = BayesOptim.optimize(foo, -1.0:0.0001:5.0; iter=1, restarts=1)\n",
    "hist = [ymax]\n",
    "gp_plots = [plot(opt.model)]\n",
    "\n",
    "for i in 1:6\n",
    "    xmax, ymax = BayesianOptimization.optimize!(opt, 1, 1)\n",
    "    push!(hist, ymax)\n",
    "    if i % 2 == 0\n",
    "        push!(gp_plots, plot(opt.model))\n",
    "    end\n",
    "end"
   ]
  },
  {
   "cell_type": "code",
   "execution_count": null,
   "metadata": {
    "collapsed": true
   },
   "outputs": [],
   "source": []
  }
 ],
 "metadata": {
  "kernelspec": {
   "display_name": "Julia 0.6.0",
   "language": "julia",
   "name": "julia-0.6"
  },
  "language_info": {
   "file_extension": ".jl",
   "mimetype": "application/julia",
   "name": "julia",
   "version": "0.6.0"
  }
 },
 "nbformat": 4,
 "nbformat_minor": 2
}
