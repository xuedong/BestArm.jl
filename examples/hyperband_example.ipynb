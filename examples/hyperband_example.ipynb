{
 "cells": [
  {
   "cell_type": "code",
   "execution_count": 1,
   "metadata": {},
   "outputs": [
    {
     "name": "stderr",
     "output_type": "stream",
     "text": [
      "WARNING: Method definition warn(Any...) in module Base at util.jl:585 overwritten in module Logging at /home/xuedong/.julia/v0.6/Logging/src/Logging.jl:115.\n",
      "WARNING: Method definition info(Any...) in module Base at util.jl:532 overwritten in module Logging at /home/xuedong/.julia/v0.6/Logging/src/Logging.jl:115.\n"
     ]
    },
    {
     "data": {
      "text/plain": [
       "Hyperband"
      ]
     },
     "execution_count": 1,
     "metadata": {},
     "output_type": "execute_result"
    }
   ],
   "source": [
    "using Knet\n",
    "include(Knet.dir(\"examples\",\"fashion-mnist\",\"fashion-mnist.jl\"))\n",
    "include(\"../Hyperband.jl\")"
   ]
  },
  {
   "cell_type": "code",
   "execution_count": 7,
   "metadata": {},
   "outputs": [
    {
     "data": {
      "text/plain": [
       "(Inf,)"
      ]
     },
     "execution_count": 7,
     "metadata": {},
     "output_type": "execute_result"
    }
   ],
   "source": [
    "best = (Inf,)"
   ]
  },
  {
   "cell_type": "code",
   "execution_count": 8,
   "metadata": {},
   "outputs": [
    {
     "data": {
      "text/plain": [
       "0"
      ]
     },
     "execution_count": 8,
     "metadata": {},
     "output_type": "execute_result"
    }
   ],
   "source": [
    "neval = 0"
   ]
  },
  {
   "cell_type": "code",
   "execution_count": 9,
   "metadata": {},
   "outputs": [
    {
     "data": {
      "text/plain": [
       "getloss (generic function with 1 method)"
      ]
     },
     "execution_count": 9,
     "metadata": {},
     "output_type": "execute_result"
    }
   ],
   "source": [
    "function getloss(config,epochs)\n",
    "        neval += 1\n",
    "        winit,lr,hidden = config\n",
    "        epochs = round(Int,epochs)\n",
    "        w = FashionMNIST.main(\"--winit $winit --lr $lr --hidden $hidden --epochs $epochs --seed 1 --fast\")\n",
    "        corr,loss = FashionMNIST.accuracy(w,MNIST.dtst)\n",
    "        println((:epochs,epochs,:corr,corr,:loss,loss,:winit,winit,:lr,lr,:hidden,hidden))\n",
    "        if loss < best[1]\n",
    "            best = (loss, config, epochs)\n",
    "        end\n",
    "        return loss\n",
    "end"
   ]
  },
  {
   "cell_type": "code",
   "execution_count": 10,
   "metadata": {},
   "outputs": [
    {
     "data": {
      "text/plain": [
       "getconfig (generic function with 1 method)"
      ]
     },
     "execution_count": 10,
     "metadata": {},
     "output_type": "execute_result"
    }
   ],
   "source": [
    "function getconfig()\n",
    "        winit = 0.001^rand()\n",
    "        lr = 0.001^rand()\n",
    "        hidden = 16 + floor(Int, 10000^rand())\n",
    "        return (winit,lr,hidden)\n",
    "end"
   ]
  },
  {
   "cell_type": "code",
   "execution_count": 11,
   "metadata": {},
   "outputs": [
    {
     "ename": "LoadError",
     "evalue": "\u001b[91mUndefVarError: neval not defined\u001b[39m",
     "output_type": "error",
     "traceback": [
      "\u001b[91mUndefVarError: neval not defined\u001b[39m",
      "",
      "Stacktrace:",
      " [1] \u001b[1mgetloss\u001b[22m\u001b[22m at \u001b[1m./In[9]:2\u001b[22m\u001b[22m [inlined]",
      " [2] \u001b[1m#6\u001b[22m\u001b[22m at \u001b[1m./<missing>:0\u001b[22m\u001b[22m [inlined]",
      " [3] \u001b[1mnext\u001b[22m\u001b[22m at \u001b[1m./generator.jl:45\u001b[22m\u001b[22m [inlined]",
      " [4] \u001b[1mcollect\u001b[22m\u001b[22m\u001b[1m(\u001b[22m\u001b[22m::Base.Generator{Array{Tuple{Float64,Float64,Int64},1},Hyperband.##6#8{#getloss}}\u001b[1m)\u001b[22m\u001b[22m at \u001b[1m./array.jl:441\u001b[22m\u001b[22m",
      " [5] \u001b[1mhalving\u001b[22m\u001b[22m\u001b[1m(\u001b[22m\u001b[22m::#getconfig, ::#getloss, ::Int64, ::Float64, ::Int64, ::Int64\u001b[1m)\u001b[22m\u001b[22m at \u001b[1m/home/xuedong/Documents/xuedong/forge/baijulia/Hyperband.jl:29\u001b[22m\u001b[22m",
      " [6] \u001b[1mhyperband\u001b[22m\u001b[22m\u001b[1m(\u001b[22m\u001b[22m::Function, ::Function, ::Int64, ::Int64\u001b[1m)\u001b[22m\u001b[22m at \u001b[1m/home/xuedong/Documents/xuedong/forge/baijulia/Hyperband.jl:50\u001b[22m\u001b[22m",
      " [7] \u001b[1mhyperband\u001b[22m\u001b[22m\u001b[1m(\u001b[22m\u001b[22m::Function, ::Function\u001b[1m)\u001b[22m\u001b[22m at \u001b[1m/home/xuedong/Documents/xuedong/forge/baijulia/Hyperband.jl:41\u001b[22m\u001b[22m",
      " [8] \u001b[1minclude_string\u001b[22m\u001b[22m\u001b[1m(\u001b[22m\u001b[22m::String, ::String\u001b[1m)\u001b[22m\u001b[22m at \u001b[1m./loading.jl:515\u001b[22m\u001b[22m"
     ]
    }
   ],
   "source": [
    "Hyperband.hyperband(getconfig, getloss)"
   ]
  },
  {
   "cell_type": "code",
   "execution_count": null,
   "metadata": {
    "collapsed": true
   },
   "outputs": [],
   "source": []
  }
 ],
 "metadata": {
  "kernelspec": {
   "display_name": "Julia 0.6.0",
   "language": "julia",
   "name": "julia-0.6"
  },
  "language_info": {
   "file_extension": ".jl",
   "mimetype": "application/julia",
   "name": "julia",
   "version": "0.6.0"
  }
 },
 "nbformat": 4,
 "nbformat_minor": 2
}
